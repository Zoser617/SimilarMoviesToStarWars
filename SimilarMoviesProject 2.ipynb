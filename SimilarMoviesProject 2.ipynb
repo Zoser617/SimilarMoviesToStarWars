{
 "cells": [
  {
   "cell_type": "code",
   "execution_count": 2,
   "id": "e0ef192e",
   "metadata": {},
   "outputs": [
    {
     "name": "stderr",
     "output_type": "stream",
     "text": [
      "/Users/zoserreaha/opt/anaconda3/lib/python3.9/site-packages/numpy/lib/function_base.py:2683: RuntimeWarning: Degrees of freedom <= 0 for slice\n",
      "  c = cov(x, y, rowvar, dtype=dtype)\n",
      "/Users/zoserreaha/opt/anaconda3/lib/python3.9/site-packages/numpy/lib/function_base.py:2542: RuntimeWarning: divide by zero encountered in true_divide\n",
      "  c *= np.true_divide(1, fact)\n"
     ]
    },
    {
     "name": "stdout",
     "output_type": "stream",
     "text": [
      "                                                    (rating, size)  \\\n",
      "title                                                                \n",
      "Star Wars (1977)                                               584   \n",
      "Empire Strikes Back, The (1980)                                368   \n",
      "Return of the Jedi (1983)                                      507   \n",
      "Raiders of the Lost Ark (1981)                                 420   \n",
      "Austin Powers: International Man of Mystery (1997)             130   \n",
      "Sting, The (1973)                                              241   \n",
      "Indiana Jones and the Last Crusade (1989)                      331   \n",
      "Pinocchio (1940)                                               101   \n",
      "Frighteners, The (1996)                                        115   \n",
      "L.A. Confidential (1997)                                       297   \n",
      "Wag the Dog (1997)                                             137   \n",
      "Dumbo (1941)                                                   123   \n",
      "Bridge on the River Kwai, The (1957)                           165   \n",
      "Philadelphia Story, The (1940)                                 104   \n",
      "Miracle on 34th Street (1994)                                  101   \n",
      "\n",
      "                                                    (rating, mean)  similarity  \n",
      "title                                                                           \n",
      "Star Wars (1977)                                          4.359589    1.000000  \n",
      "Empire Strikes Back, The (1980)                           4.206522    0.748353  \n",
      "Return of the Jedi (1983)                                 4.007890    0.672556  \n",
      "Raiders of the Lost Ark (1981)                            4.252381    0.536117  \n",
      "Austin Powers: International Man of Mystery (1997)        3.246154    0.377433  \n",
      "Sting, The (1973)                                         4.058091    0.367538  \n",
      "Indiana Jones and the Last Crusade (1989)                 3.930514    0.350107  \n",
      "Pinocchio (1940)                                          3.673267    0.347868  \n",
      "Frighteners, The (1996)                                   3.234783    0.332729  \n",
      "L.A. Confidential (1997)                                  4.161616    0.319065  \n",
      "Wag the Dog (1997)                                        3.510949    0.318645  \n",
      "Dumbo (1941)                                              3.495935    0.317656  \n",
      "Bridge on the River Kwai, The (1957)                      4.175758    0.316580  \n",
      "Philadelphia Story, The (1940)                            4.115385    0.314272  \n",
      "Miracle on 34th Street (1994)                             3.722772    0.310921  \n"
     ]
    },
    {
     "name": "stderr",
     "output_type": "stream",
     "text": [
      "/var/folders/24/4g6xpdk166lc833v2s5znpb80000gn/T/ipykernel_6018/3243976563.py:35: FutureWarning: merging between different levels is deprecated and will be removed in a future version. (2 levels on the left, 1 on the right)\n",
      "  df = movieStats[popularMovies].join(pd.DataFrame(similarMovies, columns=['similarity']))\n"
     ]
    }
   ],
   "source": [
    "import numpy as np\n",
    "import pandas as pd\n",
    "\n",
    "r_cols = ['user_id', 'movie_id', 'rating']\n",
    "ratings = pd.read_csv('/Users/zoserreaha/Desktop/MLCourse/ml-100k/u.data', sep='\\t', names=r_cols, usecols=range(3), encoding=\"ISO-8859-1\")\n",
    "\n",
    "m_cols = ['movie_id', 'title']\n",
    "movies = pd.read_csv('/Users/zoserreaha/Desktop/MLCourse/ml-100k/u.item', sep='|', names=m_cols, usecols=range(2), encoding=\"ISO-8859-1\")\n",
    "\n",
    "ratings = pd.merge(movies, ratings) # merges the data\n",
    "\n",
    "movieRatings = ratings.pivot_table(index=['user_id'],columns=['title'],values='rating') # creating dataframe\n",
    "\n",
    "starWarsRatings = movieRatings['Star Wars (1977)']\n",
    "\n",
    "similarMovies = movieRatings.corrwith(starWarsRatings) # computes the ratings of Star Wars with every other movie\n",
    "\n",
    "similarMovies = similarMovies.dropna() # remove missing results\n",
    "\n",
    "\n",
    "df = pd.DataFrame(similarMovies) # creates new data frame based on results\n",
    "\n",
    "\n",
    "similarMovies.sort_values(ascending=False) # sorts in reverse order by correlation score\n",
    "\n",
    "\n",
    "movieStats = ratings.groupby('title').agg({'rating': [np.size, np.mean]}) # creating new data frame\n",
    "movieStats.head()\n",
    "\n",
    "popularMovies = movieStats['rating']['size'] >= 100 # gets rid of movies rated by fewer than 100 people\n",
    "movieStats[popularMovies].sort_values([('rating', 'mean')], ascending=False)[:15]\n",
    "\n",
    "\n",
    "# joins data with original data set of movies similar to Star Wars\n",
    "df = movieStats[popularMovies].join(pd.DataFrame(similarMovies, columns=['similarity']))\n",
    "\n",
    "df.sort_values(['similarity'], ascending=False)[:15]\n",
    "\n",
    "print(df.sort_values(['similarity'], ascending=False)[:15])"
   ]
  },
  {
   "cell_type": "code",
   "execution_count": null,
   "id": "95f39101",
   "metadata": {},
   "outputs": [],
   "source": []
  },
  {
   "cell_type": "code",
   "execution_count": null,
   "id": "1aaa6a47",
   "metadata": {},
   "outputs": [],
   "source": []
  }
 ],
 "metadata": {
  "kernelspec": {
   "display_name": "Python 3 (ipykernel)",
   "language": "python",
   "name": "python3"
  },
  "language_info": {
   "codemirror_mode": {
    "name": "ipython",
    "version": 3
   },
   "file_extension": ".py",
   "mimetype": "text/x-python",
   "name": "python",
   "nbconvert_exporter": "python",
   "pygments_lexer": "ipython3",
   "version": "3.9.12"
  }
 },
 "nbformat": 4,
 "nbformat_minor": 5
}
